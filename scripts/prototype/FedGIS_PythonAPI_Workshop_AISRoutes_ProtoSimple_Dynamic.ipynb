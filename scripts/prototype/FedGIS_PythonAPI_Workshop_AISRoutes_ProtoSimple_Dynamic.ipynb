{
 "cells": [
  {
   "cell_type": "markdown",
   "metadata": {},
   "source": [
    "# ArcGIS API for Python: AIS Route Extraction Prototype\n",
    "\n",
    "## A collaboration between the U.S. Department of Transportation and Esri\n",
    "\n",
    "###### Alberto Nieto (Esri), Andrew Barrows (USDOT), Dominic Menegus (USDOT)\n",
    "\n",
    "This Jupyter Notebook contains documentation, processing, and data visualization of a prototype process in which the Automated Identification System (AIS) vessel data for specified terminal-to-terminal connections is used to digitize a route polyline dataset for an authoritative GIS. \n",
    "\n",
    "This process can be leveraged to develop an Information Product that generates data-driven ferry routes for all terminals in the United States, and could be extended to other environments and use cases.\n",
    "\n",
    "Contact Info:\n",
    "anieto@esri.com"
   ]
  },
  {
   "cell_type": "markdown",
   "metadata": {
    "heading_collapsed": true
   },
   "source": [
    "# Setup"
   ]
  },
  {
   "cell_type": "markdown",
   "metadata": {
    "hidden": true
   },
   "source": [
    "#### Script Set-up (Imports, variables, etc.) (Pre-process)"
   ]
  },
  {
   "cell_type": "code",
   "execution_count": null,
   "metadata": {
    "hidden": true
   },
   "outputs": [],
   "source": [
    "import arcgis\n",
    "import plotly\n",
    "import statsmodels.api as sm\n",
    "import pandas as pd\n",
    "import matplotlib.pyplot as plt\n",
    "from scipy.stats import norm\n",
    "%matplotlib inline  \n",
    "\n",
    "gis = arcgis.gis.GIS()"
   ]
  },
  {
   "cell_type": "code",
   "execution_count": null,
   "metadata": {
    "hidden": true
   },
   "outputs": [],
   "source": [
    "gis_app_id = r\"wt3QUR1M4eum0TVI\"\n",
    "gis_url = r\"https://esrifederal.maps.arcgis.com\"\n",
    "gis = arcgis.gis.GIS(gis_url, client_id=gis_app_id)"
   ]
  },
  {
   "cell_type": "markdown",
   "metadata": {
    "hidden": true
   },
   "source": [
    "#### Code to run and plot lowess on AIS Staten Island sample (Pre-processed)"
   ]
  },
  {
   "cell_type": "code",
   "execution_count": null,
   "metadata": {
    "collapsed": true,
    "hidden": true
   },
   "outputs": [],
   "source": [
    "def calculate_lat_lon_in_spatialdf(spatialdf, shape_field='SHAPE', output_lat='latitude', output_lon='longitude'):\n",
    "\n",
    "    def calculate_latitude(shape_field):\n",
    "        return shape_field['y']\n",
    "\n",
    "    def calculate_longitude(shape_field):\n",
    "        return shape_field['x']\n",
    "\n",
    "    # Calculate latitude and longitude fields from the shape attribute\n",
    "    spatialdf[output_lat] = spatialdf.apply(lambda x: calculate_latitude(x[shape_field]), axis=1)\n",
    "    spatialdf[output_lon] = spatialdf.apply(lambda x: calculate_longitude(x[shape_field]), axis=1)\n",
    "\n",
    "    return spatialdf"
   ]
  },
  {
   "cell_type": "code",
   "execution_count": null,
   "metadata": {
    "collapsed": true,
    "hidden": true
   },
   "outputs": [],
   "source": [
    "# ais_local_fgdb = r\"D:\\ANieto_SolutionEngineer\\Data\\DOT\\BTS\\Zone18_2014_07\\Zone18_2014_07.gdb\"\n",
    "# ais_sample_fc = \"C:\\\\Users\\\\albe9057\\\\Documents\\\\ANieto_SolutionEngineering\\\\Projects\\\\FedGIS\\\\FedGIS_2018\\\\Zone18_2014_07.gdb\\\\AIS_Sampler\"\n",
    "# ais_sdf = calculate_lat_lon_in_spatialdf(arcgis.features.SpatialDataFrame.from_featureclass(ais_sample_fc))\n",
    "# ais_sdf"
   ]
  },
  {
   "cell_type": "code",
   "execution_count": null,
   "metadata": {
    "hidden": true
   },
   "outputs": [],
   "source": [
    "ais_sample = gis.content.search(\"AIS_StatenIsland_Sample\", item_type=\"feature layer\")[0]\n",
    "ais_sample"
   ]
  },
  {
   "cell_type": "code",
   "execution_count": null,
   "metadata": {
    "hidden": true
   },
   "outputs": [],
   "source": [
    "ais_sample_df = arcgis.features.SpatialDataFrame.from_layer(ais_sample.layers[0])\n",
    "ais_sample_df"
   ]
  },
  {
   "cell_type": "code",
   "execution_count": null,
   "metadata": {
    "hidden": true
   },
   "outputs": [],
   "source": [
    "ais_sdf = calculate_lat_lon_in_spatialdf(ais_sample_df)\n",
    "ais_sdf"
   ]
  },
  {
   "cell_type": "markdown",
   "metadata": {
    "hidden": true
   },
   "source": [
    "##### Run lowess using Staten Island AIS sample (Pre-processed)"
   ]
  },
  {
   "cell_type": "code",
   "execution_count": null,
   "metadata": {
    "collapsed": true,
    "hidden": true
   },
   "outputs": [],
   "source": [
    "lowess = sm.nonparametric.lowess\n",
    "lowess_ais = lowess(ais_sdf['latitude'], ais_sdf['longitude'])"
   ]
  },
  {
   "cell_type": "markdown",
   "metadata": {},
   "source": [
    "# Ask Questions"
   ]
  },
  {
   "cell_type": "markdown",
   "metadata": {},
   "source": [
    "### How can we determine \"average\" paths for ferry routes in the United States? "
   ]
  },
  {
   "cell_type": "markdown",
   "metadata": {},
   "source": [
    "# Proposed Methodology"
   ]
  },
  {
   "cell_type": "markdown",
   "metadata": {},
   "source": [
    "#### Use AIS positional data to determine ship positions along routes, perform qualitative checks, and digitize polyline geometry"
   ]
  },
  {
   "cell_type": "markdown",
   "metadata": {},
   "source": [
    "<img src=\"../../docs/dbclustering.PNG\"></img>"
   ]
  },
  {
   "cell_type": "markdown",
   "metadata": {},
   "source": [
    "# Part 1: Retrieve and Explore AIS Data"
   ]
  },
  {
   "cell_type": "markdown",
   "metadata": {},
   "source": [
    "#### Code to Retrieve AIS Data"
   ]
  },
  {
   "cell_type": "code",
   "execution_count": 14,
   "metadata": {},
   "outputs": [
    {
     "data": {
      "text/html": [
       "<div class=\"item_container\" style=\"height: auto; overflow: hidden; border: 1px solid #cfcfcf; border-radius: 2px; background: #f6fafa; line-height: 1.21429em; padding: 10px;\">\n",
       "                    <div class=\"item_left\" style=\"width: 210px; float: left;\">\n",
       "                       <a href='https://esrifederal.maps.arcgis.com/home/item.html?id=e049856d37234546bf1bcb87b99e5d69' target='_blank'>\n",
       "                        <img src='data:image/png;base64,R0lGODlhBQAFAID/AMDAwAAAACH5BAEAAAAALAAAAAAFAAUAQAIEhI+pWAA7' width='200' height='133' class=\"itemThumbnail\">\n",
       "                       </a>\n",
       "                    </div>\n",
       "\n",
       "                    <div class=\"item_right\"     style=\"float: none; width: auto; overflow: hidden;\">\n",
       "                        <a href='https://esrifederal.maps.arcgis.com/home/item.html?id=e049856d37234546bf1bcb87b99e5d69' target='_blank'><b>AIS_StatenIsland_Sample</b>\n",
       "                        </a>\n",
       "                        <br/><img src='https://esrifederal.maps.arcgis.com/home/js/jsapi/esri/css/images/item_type_icons/featureshosted16.png' style=\"vertical-align:middle;\">Feature Layer Collection by albe9057@esri.com_esrifederal\n",
       "                        <br/>Last Modified: March 06, 2018\n",
       "                        <br/>0 comments, 10 views\n",
       "                    </div>\n",
       "                </div>\n",
       "                "
      ],
      "text/plain": [
       "<Item title:\"AIS_StatenIsland_Sample\" type:Feature Layer Collection owner:albe9057@esri.com_esrifederal>"
      ]
     },
     "execution_count": 14,
     "metadata": {},
     "output_type": "execute_result"
    }
   ],
   "source": [
    "ais_sample = gis.content.search(\"AIS_StatenIsland_Sample\", item_type=\"feature layer\")[0]\n",
    "ais_sample"
   ]
  },
  {
   "cell_type": "markdown",
   "metadata": {},
   "source": [
    "#### Map of AIS Data"
   ]
  },
  {
   "cell_type": "code",
   "execution_count": 15,
   "metadata": {},
   "outputs": [
    {
     "data": {
      "application/vnd.jupyter.widget-view+json": {
       "model_id": "8311bb02e92f47e699995c4606b040b2"
      }
     },
     "metadata": {},
     "output_type": "display_data"
    }
   ],
   "source": [
    "nyc_map = gis.map(\"-74.193765, 40.667519\", zoomlevel=10)\n",
    "nyc_map.add_layer(ais_sample)\n",
    "nyc_map.basemap = 'streets-night-vector'\n",
    "nyc_map"
   ]
  },
  {
   "cell_type": "markdown",
   "metadata": {},
   "source": [
    "<!-- <img src=\"img/capture05.png\"> -->"
   ]
  },
  {
   "cell_type": "markdown",
   "metadata": {},
   "source": [
    "# Part 2: Run Lowess"
   ]
  },
  {
   "cell_type": "markdown",
   "metadata": {
    "collapsed": true
   },
   "source": [
    "### Explanation of Loess/Lowess"
   ]
  },
  {
   "cell_type": "markdown",
   "metadata": {
    "collapsed": true
   },
   "source": [
    "Locally Weighted Scatterplot (LOWESS) Basic Facts:\n",
    "\n",
    "- Used in regression analysis to create a smooth line through a scatterplot.\n",
    "\n",
    "- Has a robust fitting method.  Because of this it can be used when there are noisy data values.\n",
    "\n",
    "- Non-parametric – no assumptions are made about the shape of the line of fit.\n",
    "\n",
    "<img src=\"img/lowess.jpg\">"
   ]
  },
  {
   "cell_type": "markdown",
   "metadata": {},
   "source": [
    "### Plot of First Run of Lowess"
   ]
  },
  {
   "cell_type": "code",
   "execution_count": 17,
   "metadata": {},
   "outputs": [
    {
     "data": {
      "text/plain": [
       "'file://C:\\\\Users\\\\albe9057\\\\Documents\\\\GitHub\\\\AISFerryRouteDigitization_Prototype\\\\scripts\\\\prototype\\\\temp-plot.html'"
      ]
     },
     "execution_count": 17,
     "metadata": {},
     "output_type": "execute_result"
    }
   ],
   "source": [
    "plotly.offline.plot({\n",
    "    \"data\": [plotly.graph_objs.Scatter(x=ais_sdf['longitude'], y=ais_sdf['latitude'])]\n",
    "})"
   ]
  },
  {
   "cell_type": "markdown",
   "metadata": {},
   "source": [
    "<!-- <img src=\"img/newplot.png\"> -->"
   ]
  },
  {
   "cell_type": "code",
   "execution_count": 18,
   "metadata": {},
   "outputs": [
    {
     "data": {
      "text/html": [
       "<iframe id=\"igraph\" scrolling=\"no\" style=\"border:none;\" seamless=\"seamless\" src=\"https://plot.ly/~albertoenieto/56.embed\" height=\"525px\" width=\"100%\"></iframe>"
      ],
      "text/plain": [
       "<plotly.tools.PlotlyDisplay object>"
      ]
     },
     "execution_count": 18,
     "metadata": {},
     "output_type": "execute_result"
    }
   ],
   "source": [
    "plotly.plotly.iplot({\n",
    "    \"data\": [plotly.graph_objs.Scatter(x=ais_sdf['longitude'], y=ais_sdf['latitude'])]\n",
    "})"
   ]
  },
  {
   "cell_type": "markdown",
   "metadata": {},
   "source": [
    "#### Plot Lowess first run"
   ]
  },
  {
   "cell_type": "code",
   "execution_count": 19,
   "metadata": {
    "scrolled": false
   },
   "outputs": [
    {
     "data": {
      "text/plain": [
       "'file://C:\\\\Users\\\\albe9057\\\\Documents\\\\GitHub\\\\AISFerryRouteDigitization_Prototype\\\\scripts\\\\prototype\\\\temp-plot.html'"
      ]
     },
     "execution_count": 19,
     "metadata": {},
     "output_type": "execute_result"
    }
   ],
   "source": [
    "plotly.offline.plot({\n",
    "    \"data\": [plotly.graph_objs.Scatter(x=lowess_ais[:,0], y=lowess_ais[:,1])]\n",
    "})"
   ]
  },
  {
   "cell_type": "markdown",
   "metadata": {},
   "source": [
    "<!-- <img src=\"img/newplot1.png\"> -->"
   ]
  },
  {
   "cell_type": "markdown",
   "metadata": {},
   "source": [
    "#### Pre-QC Route Layer on WebMap"
   ]
  },
  {
   "cell_type": "code",
   "execution_count": 20,
   "metadata": {},
   "outputs": [
    {
     "data": {
      "text/html": [
       "<div class=\"item_container\" style=\"height: auto; overflow: hidden; border: 1px solid #cfcfcf; border-radius: 2px; background: #f6fafa; line-height: 1.21429em; padding: 10px;\">\n",
       "                    <div class=\"item_left\" style=\"width: 210px; float: left;\">\n",
       "                       <a href='https://esrifederal.maps.arcgis.com/home/item.html?id=f365f2e9c2f34f4ebbc76f111af6cec9' target='_blank'>\n",
       "                        <img src='data:image/png;base64,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' width='200' height='133' class=\"itemThumbnail\">\n",
       "                       </a>\n",
       "                    </div>\n",
       "\n",
       "                    <div class=\"item_right\"     style=\"float: none; width: auto; overflow: hidden;\">\n",
       "                        <a href='https://esrifederal.maps.arcgis.com/home/item.html?id=f365f2e9c2f34f4ebbc76f111af6cec9' target='_blank'><b>AIS_SIFerryRoute_PreQC</b>\n",
       "                        </a>\n",
       "                        <br/>AIS Ferry Route | Pre-QC<img src='https://esrifederal.maps.arcgis.com/home/js/jsapi/esri/css/images/item_type_icons/featureshosted16.png' style=\"vertical-align:middle;\">Feature Layer Collection by albe9057@esri.com_esrifederal\n",
       "                        <br/>Last Modified: March 06, 2018\n",
       "                        <br/>0 comments, 1 views\n",
       "                    </div>\n",
       "                </div>\n",
       "                "
      ],
      "text/plain": [
       "<Item title:\"AIS_SIFerryRoute_PreQC\" type:Feature Layer Collection owner:albe9057@esri.com_esrifederal>"
      ]
     },
     "execution_count": 20,
     "metadata": {},
     "output_type": "execute_result"
    }
   ],
   "source": [
    "preqc_route_layer = gis.content.search(\"AIS_SIFerryRoute_PreQC\", item_type=\"feature service\")[0]\n",
    "preqc_route_layer"
   ]
  },
  {
   "cell_type": "code",
   "execution_count": 21,
   "metadata": {},
   "outputs": [
    {
     "data": {
      "application/vnd.jupyter.widget-view+json": {
       "model_id": "dd29728227174469a0a81dbd8768e4e5"
      }
     },
     "metadata": {},
     "output_type": "display_data"
    }
   ],
   "source": [
    "preqc_route_map = gis.map(\"Bayonne, NJ\", zoomlevel=12)\n",
    "preqc_route_map.basemap = 'gray'\n",
    "preqc_route_map.add_layer(ais_sample)\n",
    "preqc_route_map.add_layer(preqc_route_layer)\n",
    "preqc_route_map"
   ]
  },
  {
   "cell_type": "markdown",
   "metadata": {},
   "source": [
    "<!-- <img src=\"img/capture01.PNG\"> -->"
   ]
  },
  {
   "cell_type": "markdown",
   "metadata": {},
   "source": [
    "#### The north end of the route overshoots the terminal... let's fix this."
   ]
  },
  {
   "cell_type": "markdown",
   "metadata": {},
   "source": [
    "# Part 3: Run QC - Density-based Clustering"
   ]
  },
  {
   "cell_type": "markdown",
   "metadata": {},
   "source": [
    "#### Explanation of Density-based Clustering"
   ]
  },
  {
   "cell_type": "markdown",
   "metadata": {},
   "source": [
    "http://pro.arcgis.com/en/pro-app/tool-reference/spatial-statistics/how-density-based-clustering-works.htm"
   ]
  },
  {
   "cell_type": "markdown",
   "metadata": {},
   "source": [
    "<img src=\"img/capture02.PNG\">"
   ]
  },
  {
   "cell_type": "markdown",
   "metadata": {},
   "source": [
    "<img src=\"img/capture03.PNG\">"
   ]
  },
  {
   "cell_type": "markdown",
   "metadata": {},
   "source": [
    "#### Code to Retrieve Density-based Clustering Layers (with noise, and without noise) and Show on Maps"
   ]
  },
  {
   "cell_type": "markdown",
   "metadata": {},
   "source": [
    "DBSCAN With noise"
   ]
  },
  {
   "cell_type": "code",
   "execution_count": 22,
   "metadata": {},
   "outputs": [
    {
     "data": {
      "application/vnd.jupyter.widget-view+json": {
       "model_id": "54e2e19366224f668dc6376d30386884"
      }
     },
     "metadata": {},
     "output_type": "display_data"
    }
   ],
   "source": [
    "dbcluster_lyr_full = gis.content.search(\"OPTICS_AIS_Sampler_50ft_lowsens\", item_type=\"feature service\")[1]\n",
    "dbcluster_map = gis.map(\"Bayonne, NJ\", zoomlevel=12)\n",
    "dbcluster_map.basemap = \"gray\"\n",
    "dbcluster_map.add_layer(dbcluster_lyr_full)\n",
    "dbcluster_map"
   ]
  },
  {
   "cell_type": "markdown",
   "metadata": {},
   "source": [
    "<!-- <img src=\"img/capture04.PNG\"> -->"
   ]
  },
  {
   "cell_type": "markdown",
   "metadata": {},
   "source": [
    "Without noise"
   ]
  },
  {
   "cell_type": "code",
   "execution_count": 23,
   "metadata": {},
   "outputs": [
    {
     "data": {
      "application/vnd.jupyter.widget-view+json": {
       "model_id": "644bd4bcf201467b9514fb430076485a"
      }
     },
     "metadata": {},
     "output_type": "display_data"
    }
   ],
   "source": [
    "dbcluster_lyr_full_nonoise = gis.content.search(\"OPTICS_AIS_Sampler_50ft_lowsens_FILTER_nonoise\")[0]\n",
    "dbcluster_map = gis.map(\"Bayonne, NJ\", zoomlevel=12)\n",
    "dbcluster_map.basemap = \"gray\"\n",
    "dbcluster_map.add_layer(dbcluster_lyr_full_nonoise)\n",
    "dbcluster_map"
   ]
  },
  {
   "cell_type": "markdown",
   "metadata": {},
   "source": [
    "<!-- <img src=\"img/capture.png\"> -->"
   ]
  },
  {
   "cell_type": "markdown",
   "metadata": {},
   "source": [
    "# Part 4: Post QC - Map"
   ]
  },
  {
   "cell_type": "markdown",
   "metadata": {},
   "source": [
    "#### Lowess Layer on WebMap"
   ]
  },
  {
   "cell_type": "code",
   "execution_count": 24,
   "metadata": {},
   "outputs": [
    {
     "data": {
      "text/html": [
       "<div class=\"item_container\" style=\"height: auto; overflow: hidden; border: 1px solid #cfcfcf; border-radius: 2px; background: #f6fafa; line-height: 1.21429em; padding: 10px;\">\n",
       "                    <div class=\"item_left\" style=\"width: 210px; float: left;\">\n",
       "                       <a href='https://esrifederal.maps.arcgis.com/home/item.html?id=e94db5d2dc594a238e5f5484290e32ce' target='_blank'>\n",
       "                        <img src='data:image/png;base64,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' width='200' height='133' class=\"itemThumbnail\">\n",
       "                       </a>\n",
       "                    </div>\n",
       "\n",
       "                    <div class=\"item_right\"     style=\"float: none; width: auto; overflow: hidden;\">\n",
       "                        <a href='https://esrifederal.maps.arcgis.com/home/item.html?id=e94db5d2dc594a238e5f5484290e32ce' target='_blank'><b>AIS_SIFerryRoute_PostQC</b>\n",
       "                        </a>\n",
       "                        <br/>AIS Ferry Routes | Post-QC<img src='https://esrifederal.maps.arcgis.com/home/js/jsapi/esri/css/images/item_type_icons/featureshosted16.png' style=\"vertical-align:middle;\">Feature Layer Collection by albe9057@esri.com_esrifederal\n",
       "                        <br/>Last Modified: March 06, 2018\n",
       "                        <br/>0 comments, 3 views\n",
       "                    </div>\n",
       "                </div>\n",
       "                "
      ],
      "text/plain": [
       "<Item title:\"AIS_SIFerryRoute_PostQC\" type:Feature Layer Collection owner:albe9057@esri.com_esrifederal>"
      ]
     },
     "execution_count": 24,
     "metadata": {},
     "output_type": "execute_result"
    }
   ],
   "source": [
    "postqc_route_layer = gis.content.search(\"AIS_SIFerryRoute_PostQC\")[0]\n",
    "postqc_route_layer"
   ]
  },
  {
   "cell_type": "code",
   "execution_count": 25,
   "metadata": {},
   "outputs": [
    {
     "data": {
      "application/vnd.jupyter.widget-view+json": {
       "model_id": "3ef12bb572834e7e9a1321035814cfdc"
      }
     },
     "metadata": {},
     "output_type": "display_data"
    }
   ],
   "source": [
    "postqc_route_map = gis.map(\"Bayonne, NJ\", zoomlevel=12)\n",
    "postqc_route_map.basemap = 'gray'\n",
    "postqc_route_map.add_layer(postqc_route_layer)\n",
    "postqc_route_map"
   ]
  },
  {
   "cell_type": "markdown",
   "metadata": {},
   "source": [
    "<!-- <img src=\"img/capture06.png\"> -->"
   ]
  },
  {
   "cell_type": "markdown",
   "metadata": {},
   "source": [
    "### Next Steps"
   ]
  },
  {
   "cell_type": "markdown",
   "metadata": {},
   "source": [
    "- Continued improvement on generalization function. \n",
    "- Iteratation on multiple routes.  \n",
    "- Output lowess line into geospatial web application. \n",
    "- Published authoritative records into <a ref=\"https://osav-usdot.opendata.arcgis.com/\">Bureau of Transportation Open Data site.</a>"
   ]
  },
  {
   "cell_type": "markdown",
   "metadata": {},
   "source": [
    "### In Conclusion..."
   ]
  }
 ],
 "metadata": {
  "kernelspec": {
   "display_name": "Python 3",
   "language": "python",
   "name": "python3"
  },
  "language_info": {
   "codemirror_mode": {
    "name": "ipython",
    "version": 3
   },
   "file_extension": ".py",
   "mimetype": "text/x-python",
   "name": "python",
   "nbconvert_exporter": "python",
   "pygments_lexer": "ipython3",
   "version": "3.6.1"
  }
 },
 "nbformat": 4,
 "nbformat_minor": 2
}
