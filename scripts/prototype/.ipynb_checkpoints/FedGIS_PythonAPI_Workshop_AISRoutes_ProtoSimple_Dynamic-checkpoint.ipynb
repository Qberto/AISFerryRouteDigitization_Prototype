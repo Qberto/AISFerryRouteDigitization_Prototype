{
 "cells": [
  {
   "cell_type": "markdown",
   "metadata": {},
   "source": [
    "# ArcGIS API for Python: AIS Route Extraction Prototype\n",
    "\n",
    "## A collaboration between the U.S. Department of Transportation and Esri\n",
    "\n",
    "###### Alberto Nieto (Esri), Andrew Barrows (USDOT), Dominic Menegus (USDOT)\n",
    "\n",
    "This Jupyter Notebook contains documentation, processing, and data visualization of a prototype process in which the Automated Identification System (AIS) vessel data for specified terminal-to-terminal connections is used to digitize a route polyline dataset for an authoritative GIS. \n",
    "\n",
    "This process can be leveraged to develop an Information Product that generates data-driven ferry routes for all terminals in the United States, and could be extended to other environments and use cases.\n",
    "\n",
    "Contact Info:\n",
    "anieto@esri.com"
   ]
  },
  {
   "cell_type": "markdown",
   "metadata": {},
   "source": [
    "# Ask Questions"
   ]
  },
  {
   "cell_type": "markdown",
   "metadata": {},
   "source": [
    "### How can we determine \"average\" paths for ferry routes in the United States? "
   ]
  },
  {
   "cell_type": "markdown",
   "metadata": {},
   "source": [
    "# Proposed Methodology"
   ]
  },
  {
   "cell_type": "markdown",
   "metadata": {},
   "source": [
    "#### Use AIS positional data to determine ship positions along routes, perform qualitative checks, and digitize polyline geometry"
   ]
  },
  {
   "cell_type": "markdown",
   "metadata": {},
   "source": [
    "<img src=\"../../docs/dbclustering.PNG\"></img>"
   ]
  },
  {
   "cell_type": "markdown",
   "metadata": {},
   "source": [
    "#### Script Set-up (Imports, variables, etc.) (Pre-process)"
   ]
  },
  {
   "cell_type": "code",
   "execution_count": null,
   "metadata": {},
   "outputs": [],
   "source": [
    "import arcgis\n",
    "import plotly\n",
    "import statsmodels.api as sm\n",
    "import pandas as pd\n",
    "import matplotlib.pyplot as plt\n",
    "from scipy.stats import norm\n",
    "%matplotlib inline  \n",
    "\n",
    "gis = arcgis.gis.GIS()"
   ]
  },
  {
   "cell_type": "code",
   "execution_count": null,
   "metadata": {},
   "outputs": [],
   "source": [
    "gis_app_id = r\"wt3QUR1M4eum0TVI\"\n",
    "gis_url = r\"https://esrifederal.maps.arcgis.com\"\n",
    "gis = arcgis.gis.GIS(gis_url, client_id=gis_app_id)"
   ]
  },
  {
   "cell_type": "markdown",
   "metadata": {},
   "source": [
    "# Part 1: Retrieve and Explore AIS Data"
   ]
  },
  {
   "cell_type": "markdown",
   "metadata": {},
   "source": [
    "#### Code to Retrieve AIS Data"
   ]
  },
  {
   "cell_type": "code",
   "execution_count": null,
   "metadata": {},
   "outputs": [],
   "source": [
    "ais_sample = gis.content.search(\"AIS_StatenIsland_Sample\", item_type=\"feature layer\")[0]\n",
    "ais_sample"
   ]
  },
  {
   "cell_type": "markdown",
   "metadata": {},
   "source": [
    "#### Map of AIS Data"
   ]
  },
  {
   "cell_type": "code",
   "execution_count": null,
   "metadata": {},
   "outputs": [],
   "source": [
    "nyc_map = gis.map(\"-74.193765, 40.667519\", zoomlevel=10)\n",
    "nyc_map.add_layer(ais_sample)\n",
    "nyc_map.basemap = 'streets-night-vector'\n",
    "nyc_map"
   ]
  },
  {
   "cell_type": "markdown",
   "metadata": {},
   "source": [
    "<!-- <img src=\"img/capture05.png\"> -->"
   ]
  },
  {
   "cell_type": "markdown",
   "metadata": {},
   "source": [
    "# Part 2: Run Lowess"
   ]
  },
  {
   "cell_type": "markdown",
   "metadata": {
    "collapsed": true
   },
   "source": [
    "### Explanation of Loess/Lowess"
   ]
  },
  {
   "cell_type": "markdown",
   "metadata": {
    "collapsed": true
   },
   "source": [
    "Locally Weighted Scatterplot (LOWESS) Basic Facts:\n",
    "\n",
    "- Used in regression analysis to create a smooth line through a scatterplot.\n",
    "\n",
    "- Has a robust fitting method.  Because of this it can be used when there are noisy data values.\n",
    "\n",
    "- Non-parametric – no assumptions are made about the shape of the line of fit.\n",
    "\n",
    "<img src=\"img/lowess.jpg\">"
   ]
  },
  {
   "cell_type": "markdown",
   "metadata": {
    "heading_collapsed": true
   },
   "source": [
    "#### Code to run and plot lowess on AIS Staten Island sample (Pre-processed)"
   ]
  },
  {
   "cell_type": "code",
   "execution_count": null,
   "metadata": {
    "hidden": true
   },
   "outputs": [],
   "source": [
    "def calculate_lat_lon_in_spatialdf(spatialdf, shape_field='SHAPE', output_lat='latitude', output_lon='longitude'):\n",
    "\n",
    "    def calculate_latitude(shape_field):\n",
    "        return shape_field['y']\n",
    "\n",
    "    def calculate_longitude(shape_field):\n",
    "        return shape_field['x']\n",
    "\n",
    "    # Calculate latitude and longitude fields from the shape attribute\n",
    "    spatialdf[output_lat] = spatialdf.apply(lambda x: calculate_latitude(x[shape_field]), axis=1)\n",
    "    spatialdf[output_lon] = spatialdf.apply(lambda x: calculate_longitude(x[shape_field]), axis=1)\n",
    "\n",
    "    return spatialdf"
   ]
  },
  {
   "cell_type": "code",
   "execution_count": null,
   "metadata": {
    "hidden": true
   },
   "outputs": [],
   "source": [
    "ais_local_fgdb = r\"D:\\ANieto_SolutionEngineer\\Data\\DOT\\BTS\\Zone18_2014_07\\Zone18_2014_07.gdb\"\n",
    "ais_sample_fc = \"{0}//AIS_Sampler\".format(ais_local_fgdb)\n",
    "ais_sdf = calculate_lat_lon_in_spatialdf(arcgis.features.SpatialDataFrame.from_featureclass(ais_sample_fc))\n",
    "ais_sdf"
   ]
  },
  {
   "cell_type": "markdown",
   "metadata": {},
   "source": [
    "### Plot of First Run of Lowess"
   ]
  },
  {
   "cell_type": "code",
   "execution_count": null,
   "metadata": {},
   "outputs": [],
   "source": [
    "plotly.offline.plot({\n",
    "    \"data\": [plotly.graph_objs.Scatter(x=ais_sdf['longitude'], y=ais_sdf['latitude'])]\n",
    "})"
   ]
  },
  {
   "cell_type": "markdown",
   "metadata": {},
   "source": [
    "<!-- <img src=\"img/newplot.png\"> -->"
   ]
  },
  {
   "cell_type": "markdown",
   "metadata": {},
   "source": [
    "##### Run lowess using Staten Island AIS sample (Pre-processed)"
   ]
  },
  {
   "cell_type": "code",
   "execution_count": null,
   "metadata": {},
   "outputs": [],
   "source": [
    "lowess = sm.nonparametric.lowess\n",
    "lowess_ais = lowess(ais_sdf['latitude'], ais_sdf['longitude'])"
   ]
  },
  {
   "cell_type": "markdown",
   "metadata": {},
   "source": [
    "#### Plot Lowess first run"
   ]
  },
  {
   "cell_type": "code",
   "execution_count": null,
   "metadata": {
    "scrolled": false
   },
   "outputs": [],
   "source": [
    "plotly.offline.plot({\n",
    "    \"data\": [plotly.graph_objs.Scatter(x=lowess_ais[:,0], y=lowess_ais[:,1])]\n",
    "})"
   ]
  },
  {
   "cell_type": "markdown",
   "metadata": {},
   "source": [
    "<!-- <img src=\"img/newplot1.png\"> -->"
   ]
  },
  {
   "cell_type": "markdown",
   "metadata": {},
   "source": [
    "#### Pre-QC Route Layer on WebMap"
   ]
  },
  {
   "cell_type": "code",
   "execution_count": null,
   "metadata": {},
   "outputs": [],
   "source": [
    "preqc_route_layer = gis.content.search(\"AIS_SIFerryRoute_PreQC\", item_type=\"feature service\")[0]\n",
    "preqc_route_layer"
   ]
  },
  {
   "cell_type": "code",
   "execution_count": null,
   "metadata": {},
   "outputs": [],
   "source": [
    "preqc_route_map = gis.map(\"Bayonne, NJ\", zoomlevel=12)\n",
    "preqc_route_map.basemap = 'gray'\n",
    "preqc_route_map.add_layer(ais_sample)\n",
    "preqc_route_map.add_layer(preqc_route_layer)\n",
    "preqc_route_map"
   ]
  },
  {
   "cell_type": "markdown",
   "metadata": {},
   "source": [
    "<!-- <img src=\"img/capture01.PNG\"> -->"
   ]
  },
  {
   "cell_type": "markdown",
   "metadata": {},
   "source": [
    "#### The north end of the route overshoots the terminal... let's fix this."
   ]
  },
  {
   "cell_type": "markdown",
   "metadata": {},
   "source": [
    "# Part 3: Run QC - Density-based Clustering"
   ]
  },
  {
   "cell_type": "markdown",
   "metadata": {},
   "source": [
    "#### Explanation of Density-based Clustering"
   ]
  },
  {
   "cell_type": "markdown",
   "metadata": {},
   "source": [
    "http://pro.arcgis.com/en/pro-app/tool-reference/spatial-statistics/how-density-based-clustering-works.htm"
   ]
  },
  {
   "cell_type": "markdown",
   "metadata": {},
   "source": [
    "<img src=\"img/capture02.PNG\">"
   ]
  },
  {
   "cell_type": "markdown",
   "metadata": {},
   "source": [
    "<img src=\"img/capture03.PNG\">"
   ]
  },
  {
   "cell_type": "markdown",
   "metadata": {},
   "source": [
    "#### Code to Retrieve Density-based Clustering Layers (with noise, and without noise) and Show on Maps"
   ]
  },
  {
   "cell_type": "markdown",
   "metadata": {},
   "source": [
    "DBSCAN With noise"
   ]
  },
  {
   "cell_type": "code",
   "execution_count": null,
   "metadata": {},
   "outputs": [],
   "source": [
    "dbcluster_lyr_full = gis.content.search(\"OPTICS_AIS_Sampler_50ft_lowsens\")[0]\n",
    "dbcluster_map = gis.map(\"Bayonne, NJ\", zoomlevel=12)\n",
    "dbcluster_map.basemap = \"gray\"\n",
    "dbcluster_map.add_layer(dbcluster_lyr_full)\n",
    "dbcluster_map"
   ]
  },
  {
   "cell_type": "markdown",
   "metadata": {},
   "source": [
    "<!-- <img src=\"img/capture04.PNG\"> -->"
   ]
  },
  {
   "cell_type": "markdown",
   "metadata": {},
   "source": [
    "Without noise"
   ]
  },
  {
   "cell_type": "code",
   "execution_count": null,
   "metadata": {},
   "outputs": [],
   "source": [
    "dbcluster_lyr_full_nonoise = gis.content.search(\"OPTICS_AIS_Sampler_50ft_lowsens_FILTER_nonoise\")[0]\n",
    "dbcluster_map = gis.map(\"Bayonne, NJ\", zoomlevel=12)\n",
    "dbcluster_map.basemap = \"gray\"\n",
    "dbcluster_map.add_layer(dbcluster_lyr_full_nonoise)\n",
    "dbcluster_map"
   ]
  },
  {
   "cell_type": "markdown",
   "metadata": {},
   "source": [
    "<!-- <img src=\"img/capture.png\"> -->"
   ]
  },
  {
   "cell_type": "markdown",
   "metadata": {},
   "source": [
    "# Part 4: Post QC - Map"
   ]
  },
  {
   "cell_type": "markdown",
   "metadata": {},
   "source": [
    "#### Lowess Layer on WebMap"
   ]
  },
  {
   "cell_type": "code",
   "execution_count": null,
   "metadata": {},
   "outputs": [],
   "source": [
    "postqc_route_layer = gis.content.search(\"AIS_SIFerryRoute_PostQC\")[0]\n",
    "postqc_route_layer"
   ]
  },
  {
   "cell_type": "code",
   "execution_count": null,
   "metadata": {},
   "outputs": [],
   "source": [
    "postqc_route_map = gis.map(\"Bayonne, NJ\", zoomlevel=12)\n",
    "postqc_route_map.basemap = 'gray'\n",
    "postqc_route_map.add_layer(postqc_route_layer)\n",
    "postqc_route_map"
   ]
  },
  {
   "cell_type": "markdown",
   "metadata": {},
   "source": [
    "<!-- <img src=\"img/capture06.png\"> -->"
   ]
  },
  {
   "cell_type": "markdown",
   "metadata": {},
   "source": [
    "### Next Steps"
   ]
  },
  {
   "cell_type": "markdown",
   "metadata": {},
   "source": [
    "- Continued improvement on generalization function. \n",
    "- Iteratation on multiple routes.  \n",
    "- Output lowess line into geospatial web application. \n",
    "- Published authoritative records into <a ref=\"https://osav-usdot.opendata.arcgis.com/\">Bureau of Transportation Open Data site.</a>"
   ]
  }
 ],
 "metadata": {
  "kernelspec": {
   "display_name": "Python 3",
   "language": "python",
   "name": "python3"
  },
  "language_info": {
   "codemirror_mode": {
    "name": "ipython",
    "version": 3
   },
   "file_extension": ".py",
   "mimetype": "text/x-python",
   "name": "python",
   "nbconvert_exporter": "python",
   "pygments_lexer": "ipython3",
   "version": "3.6.2"
  }
 },
 "nbformat": 4,
 "nbformat_minor": 2
}
