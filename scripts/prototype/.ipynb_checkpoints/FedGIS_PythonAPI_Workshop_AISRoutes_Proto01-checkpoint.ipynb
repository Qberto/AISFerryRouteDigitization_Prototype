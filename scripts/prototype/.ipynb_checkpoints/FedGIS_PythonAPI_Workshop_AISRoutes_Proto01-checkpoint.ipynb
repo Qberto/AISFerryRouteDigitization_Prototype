{
 "cells": [
  {
   "cell_type": "markdown",
   "metadata": {},
   "source": [
    "# ArcGIS API for Python: AIS Route Extraction Prototype\n",
    "\n",
    "## A collaboration between the U.S. Department of Transportation and Esri\n",
    "\n",
    "###### Alberto Nieto (Esri), Andrew Barrows (USDOT), Dominic Menegus (USDOT)\n",
    "\n",
    "This Jupyter Notebook contains documentation, processing, and data visualization of a process in which the AIS vessel data for specified terminal-to-terminal connections is used to digitize a route polyline dataset for an authoritative GIS. \n",
    "\n",
    "This process can be leveraged to develop an Information Product that generates data-driven ferry routes for all terminals in the United States, and could be extended to other environments and use cases.\n",
    "\n",
    "Contact Info:\n",
    "anieto@esri.com"
   ]
  },
  {
   "cell_type": "markdown",
   "metadata": {},
   "source": [
    "# Spatial Analysis Methodology\n",
    "\n",
    "### 1. Ask questions: \n",
    "Formulate hypotheses and spatial\n",
    "questions.\n",
    "\n",
    "### 2. Explore the data: \n",
    "Examine the data quality,\n",
    "completeness, and measurement limitations (scale\n",
    "and resolution) to determine the level of analysis and\n",
    "interpretation that can be supported.\n",
    "\n",
    "### 3. Analyze and model: \n",
    "Break the problem down into\n",
    "solvable components that can be modeled. Quantify\n",
    "and evaluate the spatial questions.\n",
    "\n",
    "### 4. Interpret the results: \n",
    "Evaluate and analyze the results\n",
    "in the context of the question posed, data limitations,\n",
    "accuracy, and other implications.\n",
    "\n",
    "### 5. Repeat as necessary: \n",
    "Spatial analysis is a continuous\n",
    "and iterative process that often leads to further\n",
    "questions and refinements.\n",
    "\n",
    "### 6. Present the results: \n",
    "The best information and\n",
    "analysis becomes increasingly valuable when it can be\n",
    "effectively presented and shared with a larger audience.\n",
    "\n",
    "### 7. Make a decision: \n",
    "\n",
    "Spatial analysis and GIS are used to support the \n",
    "decision-making process. A successful spatial analysis \n",
    "process often leads to the understanding necessary to \n",
    "drive decisions and action."
   ]
  },
  {
   "cell_type": "markdown",
   "metadata": {},
   "source": [
    "# 2. Retrieve and Explore Data"
   ]
  },
  {
   "cell_type": "code",
   "execution_count": 1,
   "metadata": {
    "collapsed": true
   },
   "outputs": [],
   "source": [
    "ais_source_url = r\"https://marinecadastre.gov/ais/\""
   ]
  },
  {
   "cell_type": "markdown",
   "metadata": {},
   "source": [
    "# 3. Analyze and Model"
   ]
  },
  {
   "cell_type": "markdown",
   "metadata": {},
   "source": [
    "#### P1. Convert AIS source dataset into format that can be passed into generalization function"
   ]
  },
  {
   "cell_type": "code",
   "execution_count": null,
   "metadata": {
    "collapsed": true
   },
   "outputs": [],
   "source": []
  },
  {
   "cell_type": "markdown",
   "metadata": {},
   "source": [
    "#### P2. Run generalization function and visualize outputs"
   ]
  },
  {
   "cell_type": "code",
   "execution_count": null,
   "metadata": {
    "collapsed": true
   },
   "outputs": [],
   "source": []
  },
  {
   "cell_type": "markdown",
   "metadata": {},
   "source": [
    "#### P3. Terminal Noise QC Process"
   ]
  },
  {
   "cell_type": "markdown",
   "metadata": {},
   "source": [
    "#### P3A. Create manual checker for terminal noise QC process"
   ]
  },
  {
   "cell_type": "code",
   "execution_count": null,
   "metadata": {
    "collapsed": true
   },
   "outputs": [],
   "source": []
  },
  {
   "cell_type": "markdown",
   "metadata": {},
   "source": [
    "#### P3B. Create automatic checker for terminal noise QC process"
   ]
  },
  {
   "cell_type": "code",
   "execution_count": null,
   "metadata": {
    "collapsed": true
   },
   "outputs": [],
   "source": []
  },
  {
   "cell_type": "markdown",
   "metadata": {},
   "source": [
    "#### P4. Run terminal noise modifying function and repeat process at P3 until QC passed."
   ]
  },
  {
   "cell_type": "code",
   "execution_count": null,
   "metadata": {
    "collapsed": true
   },
   "outputs": [],
   "source": []
  },
  {
   "cell_type": "markdown",
   "metadata": {},
   "source": [
    "#### P5. Convert output generalization (+QC) output line to GIS format. Publish as a service. "
   ]
  },
  {
   "cell_type": "code",
   "execution_count": null,
   "metadata": {
    "collapsed": true
   },
   "outputs": [],
   "source": []
  }
 ],
 "metadata": {
  "kernelspec": {
   "display_name": "Python 3",
   "language": "python",
   "name": "python3"
  },
  "language_info": {
   "codemirror_mode": {
    "name": "ipython",
    "version": 3
   },
   "file_extension": ".py",
   "mimetype": "text/x-python",
   "name": "python",
   "nbconvert_exporter": "python",
   "pygments_lexer": "ipython3",
   "version": "3.6.1"
  }
 },
 "nbformat": 4,
 "nbformat_minor": 2
}
