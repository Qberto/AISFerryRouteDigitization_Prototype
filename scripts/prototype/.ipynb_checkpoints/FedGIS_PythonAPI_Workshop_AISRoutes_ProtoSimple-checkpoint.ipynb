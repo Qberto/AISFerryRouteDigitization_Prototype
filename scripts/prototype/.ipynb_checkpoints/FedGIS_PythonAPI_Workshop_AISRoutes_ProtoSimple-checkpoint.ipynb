{
 "cells": [
  {
   "cell_type": "markdown",
   "metadata": {},
   "source": [
    "# ArcGIS API for Python: AIS Route Extraction Prototype\n",
    "\n",
    "## A collaboration between the U.S. Department of Transportation and Esri\n",
    "\n",
    "###### Alberto Nieto (Esri), Andrew Barrows (USDOT), Dominic Menegus (USDOT)\n",
    "\n",
    "This Jupyter Notebook contains documentation, processing, and data visualization of a process in which the Automated Identification System (AIS) vessel data for specified terminal-to-terminal connections is used to digitize a route polyline dataset for an authoritative GIS. \n",
    "\n",
    "This process can be leveraged to develop an Information Product that generates data-driven ferry routes for all terminals in the United States, and could be extended to other environments and use cases.\n",
    "\n",
    "Contact Info:\n",
    "anieto@esri.com"
   ]
  },
  {
   "cell_type": "markdown",
   "metadata": {},
   "source": [
    "# Ask Questions"
   ]
  },
  {
   "cell_type": "markdown",
   "metadata": {},
   "source": [
    "### How can we determine \"average\" paths for ferry routes in the United States? "
   ]
  },
  {
   "cell_type": "markdown",
   "metadata": {},
   "source": [
    "# Proposed Methodology"
   ]
  },
  {
   "cell_type": "markdown",
   "metadata": {},
   "source": [
    "#### Use AIS positional data to determine ship positions along routes, perform qualitative checks, and digitize polyline geometry"
   ]
  },
  {
   "cell_type": "markdown",
   "metadata": {},
   "source": [
    "<img src=\"../../docs/dbclustering.PNG\"></img>"
   ]
  },
  {
   "cell_type": "markdown",
   "metadata": {},
   "source": [
    "#### Script Set-up (Imports, variables, etc.)"
   ]
  },
  {
   "cell_type": "code",
   "execution_count": 1,
   "metadata": {},
   "outputs": [
    {
     "name": "stderr",
     "output_type": "stream",
     "text": [
      "C:\\Program Files\\ArcGIS\\Pro\\bin\\Python\\envs\\arcgispro-py3\\lib\\site-packages\\statsmodels\\compat\\pandas.py:56: FutureWarning:\n",
      "\n",
      "The pandas.core.datetools module is deprecated and will be removed in a future version. Please use the pandas.tseries module instead.\n",
      "\n"
     ]
    }
   ],
   "source": [
    "import arcgis\n",
    "import plotly\n",
    "import statsmodels.api as sm\n",
    "import pandas as pd\n",
    "import matplotlib.pyplot as plt\n",
    "from scipy.stats import norm\n",
    "%matplotlib inline  \n",
    "\n",
    "gis = arcgis.gis.GIS()"
   ]
  },
  {
   "cell_type": "markdown",
   "metadata": {},
   "source": [
    "# Part 1: Retrieve and Explore AIS Data"
   ]
  },
  {
   "cell_type": "markdown",
   "metadata": {},
   "source": [
    "#### Code to Retrieve AIS Data"
   ]
  },
  {
   "cell_type": "code",
   "execution_count": 2,
   "metadata": {},
   "outputs": [
    {
     "data": {
      "text/html": [
       "<div class=\"item_container\" style=\"height: auto; overflow: hidden; border: 1px solid #cfcfcf; border-radius: 2px; background: #f6fafa; line-height: 1.21429em; padding: 10px;\">\n",
       "                    <div class=\"item_left\" style=\"width: 210px; float: left;\">\n",
       "                       <a href='http://www.arcgis.com/home/item.html?id=e049856d37234546bf1bcb87b99e5d69' target='_blank'>\n",
       "                        <img src='http://www.arcgis.com/sharing/rest//content/items/e049856d37234546bf1bcb87b99e5d69/info/thumbnail/ago_downloaded.gif' class=\"itemThumbnail\">\n",
       "                       </a>\n",
       "                    </div>\n",
       "\n",
       "                    <div class=\"item_right\"     style=\"float: none; width: auto; overflow: hidden;\">\n",
       "                        <a href='http://www.arcgis.com/home/item.html?id=e049856d37234546bf1bcb87b99e5d69' target='_blank'><b>AIS_StatenIsland_Sample</b>\n",
       "                        </a>\n",
       "                        <br/><img src='http://www.arcgis.com/home/js/jsapi/esri/css/images/item_type_icons/featureshosted16.png' style=\"vertical-align:middle;\">Feature Layer Collection by albe9057@esri.com_esrifederal\n",
       "                        <br/>Last Modified: March 06, 2018\n",
       "                        <br/>0 comments, 10 views\n",
       "                    </div>\n",
       "                </div>\n",
       "                "
      ],
      "text/plain": [
       "<Item title:\"AIS_StatenIsland_Sample\" type:Feature Layer Collection owner:albe9057@esri.com_esrifederal>"
      ]
     },
     "execution_count": 2,
     "metadata": {},
     "output_type": "execute_result"
    }
   ],
   "source": [
    "ais_sample = gis.content.search(\"AIS_StatenIsland_Sample\", item_type=\"feature layer\")[0]\n",
    "ais_sample"
   ]
  },
  {
   "cell_type": "markdown",
   "metadata": {},
   "source": [
    "#### Map of AIS Data"
   ]
  },
  {
   "cell_type": "code",
   "execution_count": 3,
   "metadata": {},
   "outputs": [
    {
     "data": {
      "application/vnd.jupyter.widget-view+json": {
       "model_id": "e93e636728434b309f0d72b3a8bd90a8"
      }
     },
     "metadata": {},
     "output_type": "display_data"
    }
   ],
   "source": [
    "nyc_map = gis.map(\"New York City\")\n",
    "nyc_map.add_layer(ais_sample)\n",
    "nyc_map.basemap = 'streets-night-vector'\n",
    "nyc_map"
   ]
  },
  {
   "cell_type": "markdown",
   "metadata": {},
   "source": [
    "<img src=\"img/capture05.png\">"
   ]
  },
  {
   "cell_type": "markdown",
   "metadata": {},
   "source": [
    "# Part 2: Run Lowess"
   ]
  },
  {
   "cell_type": "markdown",
   "metadata": {
    "collapsed": true
   },
   "source": [
    "#### Explanation of Loess/Lowess"
   ]
  },
  {
   "cell_type": "code",
   "execution_count": null,
   "metadata": {},
   "outputs": [],
   "source": []
  },
  {
   "cell_type": "markdown",
   "metadata": {},
   "source": [
    "#### Code to run and plot lowess on AIS Staten Island sample"
   ]
  },
  {
   "cell_type": "code",
   "execution_count": 4,
   "metadata": {},
   "outputs": [],
   "source": [
    "def calculate_lat_lon_in_spatialdf(spatialdf, shape_field='SHAPE', output_lat='latitude', output_lon='longitude'):\n",
    "\n",
    "    def calculate_latitude(shape_field):\n",
    "        return shape_field['y']\n",
    "\n",
    "    def calculate_longitude(shape_field):\n",
    "        return shape_field['x']\n",
    "\n",
    "    # Calculate latitude and longitude fields from the shape attribute\n",
    "    spatialdf[output_lat] = spatialdf.apply(lambda x: calculate_latitude(x[shape_field]), axis=1)\n",
    "    spatialdf[output_lon] = spatialdf.apply(lambda x: calculate_longitude(x[shape_field]), axis=1)\n",
    "\n",
    "    return spatialdf"
   ]
  },
  {
   "cell_type": "code",
   "execution_count": 5,
   "metadata": {},
   "outputs": [],
   "source": [
    "ais_local_fgdb = r\"D:\\ANieto_SolutionEngineer\\Data\\DOT\\BTS\\Zone18_2014_07\\Zone18_2014_07.gdb\"\n",
    "ais_sample_fc = \"{0}//AIS_Sampler\".format(ais_local_fgdb)\n",
    "ais_sdf = calculate_lat_lon_in_spatialdf(arcgis.features.SpatialDataFrame.from_featureclass(ais_sample_fc))"
   ]
  },
  {
   "cell_type": "code",
   "execution_count": 6,
   "metadata": {},
   "outputs": [
    {
     "data": {
      "text/html": [
       "<iframe id=\"igraph\" scrolling=\"no\" style=\"border:none;\" seamless=\"seamless\" src=\"https://plot.ly/~albertoenieto/38.embed\" height=\"525px\" width=\"100%\"></iframe>"
      ],
      "text/plain": [
       "<plotly.tools.PlotlyDisplay object>"
      ]
     },
     "execution_count": 6,
     "metadata": {},
     "output_type": "execute_result"
    }
   ],
   "source": [
    "plotly.plotly.iplot({\n",
    "    \"data\": [plotly.graph_objs.Scatter(x=ais_sdf['longitude'], y=ais_sdf['latitude'])]\n",
    "})"
   ]
  },
  {
   "cell_type": "markdown",
   "metadata": {},
   "source": [
    "<img src=\"img/newplot.png\">"
   ]
  },
  {
   "cell_type": "markdown",
   "metadata": {},
   "source": [
    "##### Run lowess using Staten Island AIS sample"
   ]
  },
  {
   "cell_type": "code",
   "execution_count": 7,
   "metadata": {},
   "outputs": [],
   "source": [
    "lowess = sm.nonparametric.lowess\n",
    "lowess_ais = lowess(ais_sdf['latitude'], ais_sdf['longitude'])"
   ]
  },
  {
   "cell_type": "code",
   "execution_count": 8,
   "metadata": {
    "scrolled": false
   },
   "outputs": [
    {
     "data": {
      "text/html": [
       "<iframe id=\"igraph\" scrolling=\"no\" style=\"border:none;\" seamless=\"seamless\" src=\"https://plot.ly/~albertoenieto/40.embed\" height=\"525px\" width=\"100%\"></iframe>"
      ],
      "text/plain": [
       "<plotly.tools.PlotlyDisplay object>"
      ]
     },
     "execution_count": 8,
     "metadata": {},
     "output_type": "execute_result"
    }
   ],
   "source": [
    "plotly.plotly.iplot({\n",
    "    \"data\": [plotly.graph_objs.Scatter(x=lowess_ais[:,0], y=lowess_ais[:,1])]\n",
    "})"
   ]
  },
  {
   "cell_type": "markdown",
   "metadata": {},
   "source": [
    "<img src=\"img/newplot1.png\">"
   ]
  },
  {
   "cell_type": "markdown",
   "metadata": {},
   "source": [
    "#### Pre-QC Route Layer on WebMap"
   ]
  },
  {
   "cell_type": "code",
   "execution_count": 9,
   "metadata": {},
   "outputs": [
    {
     "data": {
      "text/html": [
       "<div class=\"item_container\" style=\"height: auto; overflow: hidden; border: 1px solid #cfcfcf; border-radius: 2px; background: #f6fafa; line-height: 1.21429em; padding: 10px;\">\n",
       "                    <div class=\"item_left\" style=\"width: 210px; float: left;\">\n",
       "                       <a href='http://www.arcgis.com/home/item.html?id=f365f2e9c2f34f4ebbc76f111af6cec9' target='_blank'>\n",
       "                        <img src='http://www.arcgis.com/sharing/rest//content/items/f365f2e9c2f34f4ebbc76f111af6cec9/info/thumbnail/thumbnail.png' class=\"itemThumbnail\">\n",
       "                       </a>\n",
       "                    </div>\n",
       "\n",
       "                    <div class=\"item_right\"     style=\"float: none; width: auto; overflow: hidden;\">\n",
       "                        <a href='http://www.arcgis.com/home/item.html?id=f365f2e9c2f34f4ebbc76f111af6cec9' target='_blank'><b>AIS_SIFerryRoute_PreQC</b>\n",
       "                        </a>\n",
       "                        <br/>AIS Ferry Route | Pre-QC<img src='http://www.arcgis.com/home/js/jsapi/esri/css/images/item_type_icons/featureshosted16.png' style=\"vertical-align:middle;\">Feature Layer Collection by albe9057@esri.com_esrifederal\n",
       "                        <br/>Last Modified: March 06, 2018\n",
       "                        <br/>0 comments, 1 views\n",
       "                    </div>\n",
       "                </div>\n",
       "                "
      ],
      "text/plain": [
       "<Item title:\"AIS_SIFerryRoute_PreQC\" type:Feature Layer Collection owner:albe9057@esri.com_esrifederal>"
      ]
     },
     "execution_count": 9,
     "metadata": {},
     "output_type": "execute_result"
    }
   ],
   "source": [
    "preqc_route_layer = gis.content.search(\"AIS_SIFerryRoute_PreQC\")[0]\n",
    "preqc_route_layer"
   ]
  },
  {
   "cell_type": "code",
   "execution_count": 22,
   "metadata": {},
   "outputs": [
    {
     "data": {
      "application/vnd.jupyter.widget-view+json": {
       "model_id": "54b66dbeb7a04673876f210d56558ddf"
      }
     },
     "metadata": {},
     "output_type": "display_data"
    }
   ],
   "source": [
    "preqc_route_map = gis.map(\"New York City\")\n",
    "# preqc_route_map.basemap = 'ocean'\n",
    "# preqc_route_map.add_layer(preqc_route_layer)\n",
    "preqc_route_map"
   ]
  },
  {
   "cell_type": "markdown",
   "metadata": {},
   "source": [
    "<img src=\"img/capture01.PNG\">"
   ]
  },
  {
   "cell_type": "code",
   "execution_count": 23,
   "metadata": {},
   "outputs": [],
   "source": [
    "preqc_route_map.basemap = 'gray'"
   ]
  },
  {
   "cell_type": "code",
   "execution_count": 24,
   "metadata": {},
   "outputs": [],
   "source": [
    "preqc_route_map.add_layer(ais_sample)"
   ]
  },
  {
   "cell_type": "code",
   "execution_count": 25,
   "metadata": {},
   "outputs": [],
   "source": [
    "preqc_route_map.add_layer(preqc_route_layer)"
   ]
  },
  {
   "cell_type": "markdown",
   "metadata": {},
   "source": [
    "#### The north end of the route overshoots the terminal... let's fix this."
   ]
  },
  {
   "cell_type": "markdown",
   "metadata": {},
   "source": [
    "# Part 3: Run QC - Density-based Clustering"
   ]
  },
  {
   "cell_type": "markdown",
   "metadata": {},
   "source": [
    "#### Explanation of Density-based Clustering"
   ]
  },
  {
   "cell_type": "markdown",
   "metadata": {},
   "source": [
    "http://pro.arcgis.com/en/pro-app/tool-reference/spatial-statistics/how-density-based-clustering-works.htm"
   ]
  },
  {
   "cell_type": "markdown",
   "metadata": {},
   "source": [
    "<img src=\"img/capture02.PNG\">"
   ]
  },
  {
   "cell_type": "markdown",
   "metadata": {},
   "source": [
    "<img src=\"img/capture03.PNG\">"
   ]
  },
  {
   "cell_type": "markdown",
   "metadata": {},
   "source": [
    "#### Code to Retrieve Density-based Clustering Layers (with noise, and without noise) and Show on Maps"
   ]
  },
  {
   "cell_type": "markdown",
   "metadata": {},
   "source": [
    "DBSCAN With noise"
   ]
  },
  {
   "cell_type": "code",
   "execution_count": 26,
   "metadata": {},
   "outputs": [
    {
     "data": {
      "application/vnd.jupyter.widget-view+json": {
       "model_id": "111e2fcf92ca44eea959ecba74be609b"
      }
     },
     "metadata": {},
     "output_type": "display_data"
    }
   ],
   "source": [
    "dbcluster_lyr_full = gis.content.search(\"OPTICS_AIS_Sampler_50ft_lowsens\")[0]\n",
    "dbcluster_map = gis.map(\"New York City\")\n",
    "dbcluster_map.basemap = \"gray\"\n",
    "dbcluster_map.add_layer(dbcluster_lyr_full)\n",
    "dbcluster_map"
   ]
  },
  {
   "cell_type": "markdown",
   "metadata": {},
   "source": [
    "<img src=\"img/capture04.PNG\">"
   ]
  },
  {
   "cell_type": "markdown",
   "metadata": {},
   "source": [
    "Without noise"
   ]
  },
  {
   "cell_type": "code",
   "execution_count": 31,
   "metadata": {},
   "outputs": [
    {
     "data": {
      "application/vnd.jupyter.widget-view+json": {
       "model_id": "548ea0a455e543539779ce7ec5471c13"
      }
     },
     "metadata": {},
     "output_type": "display_data"
    }
   ],
   "source": [
    "dbcluster_lyr_full = gis.content.search(\"OPTICS_AIS_Sampler_50ft_lowsens_FILTER_nonnoise\")[0]\n",
    "dbcluster_map = gis.map(\"New York City\")\n",
    "dbcluster_map.basemap = \"gray\"\n",
    "dbcluster_map.add_layer(dbcluster_lyr_full)\n",
    "dbcluster_map"
   ]
  },
  {
   "cell_type": "markdown",
   "metadata": {},
   "source": [
    "<img src=\"img/capture.png\">"
   ]
  },
  {
   "cell_type": "markdown",
   "metadata": {},
   "source": [
    "# Part 4: Post QC - Map"
   ]
  },
  {
   "cell_type": "markdown",
   "metadata": {},
   "source": [
    "#### Lowess Layer on WebMap"
   ]
  },
  {
   "cell_type": "code",
   "execution_count": 16,
   "metadata": {},
   "outputs": [
    {
     "data": {
      "text/html": [
       "<div class=\"item_container\" style=\"height: auto; overflow: hidden; border: 1px solid #cfcfcf; border-radius: 2px; background: #f6fafa; line-height: 1.21429em; padding: 10px;\">\n",
       "                    <div class=\"item_left\" style=\"width: 210px; float: left;\">\n",
       "                       <a href='http://www.arcgis.com/home/item.html?id=e94db5d2dc594a238e5f5484290e32ce' target='_blank'>\n",
       "                        <img src='http://www.arcgis.com/sharing/rest//content/items/e94db5d2dc594a238e5f5484290e32ce/info/thumbnail/thumbnail.png' class=\"itemThumbnail\">\n",
       "                       </a>\n",
       "                    </div>\n",
       "\n",
       "                    <div class=\"item_right\"     style=\"float: none; width: auto; overflow: hidden;\">\n",
       "                        <a href='http://www.arcgis.com/home/item.html?id=e94db5d2dc594a238e5f5484290e32ce' target='_blank'><b>AIS_SIFerryRoute_PostQC</b>\n",
       "                        </a>\n",
       "                        <br/>AIS Ferry Routes | Post-QC<img src='http://www.arcgis.com/home/js/jsapi/esri/css/images/item_type_icons/featureshosted16.png' style=\"vertical-align:middle;\">Feature Layer Collection by albe9057@esri.com_esrifederal\n",
       "                        <br/>Last Modified: March 06, 2018\n",
       "                        <br/>0 comments, 3 views\n",
       "                    </div>\n",
       "                </div>\n",
       "                "
      ],
      "text/plain": [
       "<Item title:\"AIS_SIFerryRoute_PostQC\" type:Feature Layer Collection owner:albe9057@esri.com_esrifederal>"
      ]
     },
     "execution_count": 16,
     "metadata": {},
     "output_type": "execute_result"
    }
   ],
   "source": [
    "postqc_route_layer = gis.content.search(\"AIS_SIFerryRoute_PostQC\")[0]\n",
    "postqc_route_layer"
   ]
  },
  {
   "cell_type": "code",
   "execution_count": 34,
   "metadata": {},
   "outputs": [
    {
     "data": {
      "application/vnd.jupyter.widget-view+json": {
       "model_id": "318dcb38839f4d4fb24d0520dbc0faf7"
      }
     },
     "metadata": {},
     "output_type": "display_data"
    }
   ],
   "source": [
    "postqc_route_map = gis.map(\"Staten Island\")\n",
    "# preqc_route_map.basemap = 'ocean'\n",
    "# preqc_route_map.add_layer(preqc_route_layer)\n",
    "postqc_route_map"
   ]
  },
  {
   "cell_type": "code",
   "execution_count": 35,
   "metadata": {},
   "outputs": [],
   "source": [
    "postqc_route_map.basemap = 'gray'"
   ]
  },
  {
   "cell_type": "code",
   "execution_count": 36,
   "metadata": {},
   "outputs": [],
   "source": [
    "postqc_route_map.add_layer(postqc_route_layer)"
   ]
  },
  {
   "cell_type": "markdown",
   "metadata": {},
   "source": [
    "### Next Steps"
   ]
  },
  {
   "cell_type": "markdown",
   "metadata": {},
   "source": [
    "- Continued improvement on generalization function. \n",
    "- Deployment at scale. \n",
    "- Published records into <a ref=\"https://osav-usdot.opendata.arcgis.com/\">Bureau of Transportation Open Data site.</a>"
   ]
  }
 ],
 "metadata": {
  "kernelspec": {
   "display_name": "Python 3",
   "language": "python",
   "name": "python3"
  },
  "language_info": {
   "codemirror_mode": {
    "name": "ipython",
    "version": 3
   },
   "file_extension": ".py",
   "mimetype": "text/x-python",
   "name": "python",
   "nbconvert_exporter": "python",
   "pygments_lexer": "ipython3",
   "version": "3.6.2"
  }
 },
 "nbformat": 4,
 "nbformat_minor": 2
}
